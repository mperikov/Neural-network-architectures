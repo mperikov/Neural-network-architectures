{
 "cells": [
  {
   "cell_type": "markdown",
   "id": "ec2cc564",
   "metadata": {},
   "source": [
    "http://neuralnetworksanddeeplearning.com/chap1.html By Michael Nielsen  \n",
    "https://www.deeplearningbook.org/contents/TOC.html \n"
   ]
  },
  {
   "cell_type": "markdown",
   "id": "a20dd3fa",
   "metadata": {},
   "source": [
    "https://uvadlc-notebooks.readthedocs.io/en/latest/tutorial_notebooks/tutorial2/Introduction_to_PyTorch.html\n",
    "https://github.com/MorvanZhou/PyTorch-Tutorial/tree/master/tutorial-contents-notebooks"
   ]
  },
  {
   "cell_type": "markdown",
   "id": "bdd30fe6",
   "metadata": {},
   "source": [
    "https://github.com/fchollet/deep-learning-with-python-notebooks?tab=readme-ov-file"
   ]
  }
 ],
 "metadata": {
  "kernelspec": {
   "display_name": "Python 3 (ipykernel)",
   "language": "python",
   "name": "python3"
  },
  "language_info": {
   "codemirror_mode": {
    "name": "ipython",
    "version": 3
   },
   "file_extension": ".py",
   "mimetype": "text/x-python",
   "name": "python",
   "nbconvert_exporter": "python",
   "pygments_lexer": "ipython3",
   "version": "3.11.5"
  }
 },
 "nbformat": 4,
 "nbformat_minor": 5
}
